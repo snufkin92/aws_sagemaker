{
 "cells": [
  {
   "cell_type": "markdown",
   "metadata": {},
   "source": [
    "# Sagemaker構築サンプル"
   ]
  },
  {
   "cell_type": "markdown",
   "metadata": {},
   "source": [
    "MNISTを使用して、１桁の手書き数字の画像データセットを、SageMakerの組み込みのK-Meansで分類してみる。"
   ]
  },
  {
   "cell_type": "markdown",
   "metadata": {},
   "source": [
    "## ロールとバケットの設定"
   ]
  },
  {
   "cell_type": "code",
   "execution_count": 1,
   "metadata": {},
   "outputs": [],
   "source": [
    "from sagemaker import get_execution_role\n",
    " \n",
    "role = get_execution_role()\n",
    "\n",
    "# S3バケット名を指定\n",
    "bucket='sagemaker-getting-started-ml' "
   ]
  },
  {
   "cell_type": "markdown",
   "metadata": {},
   "source": [
    "## MINSTデータセットの読み込み"
   ]
  },
  {
   "cell_type": "code",
   "execution_count": 2,
   "metadata": {},
   "outputs": [
    {
     "name": "stdout",
     "output_type": "stream",
     "text": [
      "CPU times: user 847 ms, sys: 309 ms, total: 1.16 s\n",
      "Wall time: 8.45 s\n"
     ]
    }
   ],
   "source": [
    "%%time\n",
    "import pickle, gzip, numpy, urllib.request, json\n",
    " \n",
    "# Load the dataset\n",
    "urllib.request.urlretrieve(\"http://deeplearning.net/data/mnist/mnist.pkl.gz\", \"mnist.pkl.gz\")\n",
    "with gzip.open('mnist.pkl.gz', 'rb') as f:\n",
    "    train_set, valid_set, test_set = pickle.load(f, encoding='latin1')"
   ]
  },
  {
   "cell_type": "markdown",
   "metadata": {},
   "source": [
    "## トレーニングデータセットの調査"
   ]
  },
  {
   "cell_type": "code",
   "execution_count": 3,
   "metadata": {},
   "outputs": [
    {
     "name": "stdout",
     "output_type": "stream",
     "text": [
      "(50000, 784) (50000,)\n",
      "(10000, 784) (10000,)\n",
      "(10000, 784) (10000,)\n"
     ]
    }
   ],
   "source": [
    "print(train_set[0].shape,train_set[1].shape)\n",
    "print(valid_set[0].shape, valid_set[1].shape)\n",
    "print(test_set[0].shape, test_set[1].shape)"
   ]
  },
  {
   "cell_type": "code",
   "execution_count": 4,
   "metadata": {},
   "outputs": [
    {
     "data": {
      "image/png": "[encoded data removed]",
      "text/plain": [
       "<Figure size 144x720 with 1 Axes>"
      ]
     },
     "metadata": {},
     "output_type": "display_data"
    }
   ],
   "source": [
    "%matplotlib inline\n",
    "import matplotlib.pyplot as plt\n",
    "plt.rcParams[\"figure.figsize\"] = (2,10)\n",
    " \n",
    " \n",
    "def show_digit(img, caption='', subplot=None):\n",
    "    if subplot==None:\n",
    "        _,(subplot)=plt.subplots(1,1)\n",
    "    imgr=img.reshape((28,28))\n",
    "    subplot.axis('off')\n",
    "    subplot.imshow(imgr, cmap='gray')\n",
    "    plt.title(caption)\n",
    " \n",
    "show_digit(train_set[0][30], 'This is a {}'.format(train_set[1][30]))"
   ]
  },
  {
   "cell_type": "markdown",
   "metadata": {},
   "source": [
    "## トレーニングデータセットの変換とS3へのアップロード"
   ]
  },
  {
   "cell_type": "markdown",
   "metadata": {},
   "source": [
    "モデルの学習を効率良く行うために、通常、ダウンロードしたMNISTデータセットを numpy.array フォーマットから RecordIO protobuf フォーマットに変換する。（今回は、SageMaker 用の Python ライブラリを使用するため、変換はしない）\n",
    "\n",
    "RecordIO protobuf フォーマットは、SageMakerの全ての組み込みアルゴリズムでnumpy.arrayフォーマットよりも効率良くデータを扱うことができるフォーマットらしい。"
   ]
  },
  {
   "cell_type": "markdown",
   "metadata": {},
   "source": [
    "## 入出力先（S3）の設定¶"
   ]
  },
  {
   "cell_type": "code",
   "execution_count": 5,
   "metadata": {},
   "outputs": [
    {
     "name": "stdout",
     "output_type": "stream",
     "text": [
      "training data will be uploaded to: s3://sagemaker-getting-started-ml/kmeans_highlevel_example/data\n",
      "training artifacts will be uploaded to: s3://sagemaker-getting-started-ml/kmeans_example/output\n"
     ]
    }
   ],
   "source": [
    "from sagemaker import KMeans\n",
    " \n",
    "# 入力元\n",
    "data_location = 's3://{}/kmeans_highlevel_example/data'.format(bucket)\n",
    "\n",
    "# 出力先\n",
    "output_location = 's3://{}/kmeans_example/output'.format(bucket)\n",
    " \n",
    "print('training data will be uploaded to: {}'.format(data_location))\n",
    "print('training artifacts will be uploaded to: {}'.format(output_location))"
   ]
  },
  {
   "cell_type": "markdown",
   "metadata": {},
   "source": [
    "## K-meansによる学習"
   ]
  },
  {
   "cell_type": "code",
   "execution_count": 6,
   "metadata": {},
   "outputs": [
    {
     "name": "stderr",
     "output_type": "stream",
     "text": [
      "INFO:sagemaker:Creating training-job with name: kmeans-2018-12-03-10-45-12-933\n"
     ]
    },
    {
     "name": "stdout",
     "output_type": "stream",
     "text": [
      "2018-12-03 10:45:13 Starting - Starting the training job...\n",
      "2018-12-03 10:45:14 Starting - Launching requested ML instances.........\n",
      "2018-12-03 10:46:47 Starting - Preparing the instances for training......\n",
      "2018-12-03 10:47:55 Downloading - Downloading input data..\n",
      "\u001b[32mDocker entrypoint called with argument(s): train\u001b[0m\n",
      "\u001b[32m[12/03/2018 10:48:23 INFO 140440491001664] Reading default configuration from /opt/amazon/lib/python2.7/site-packages/algorithm/resources/default-input.json: {u'_tuning_objective_metric': u'', u'_num_gpus': u'auto', u'local_lloyd_num_trials': u'auto', u'_log_level': u'info', u'_kvstore': u'auto', u'local_lloyd_init_method': u'kmeans++', u'force_dense': u'true', u'epochs': u'1', u'init_method': u'random', u'local_lloyd_tol': u'0.0001', u'local_lloyd_max_iter': u'300', u'_disable_wait_to_read': u'false', u'extra_center_factor': u'auto', u'eval_metrics': u'[\"msd\"]', u'_num_kv_servers': u'1', u'mini_batch_size': u'5000', u'half_life_time_size': u'0', u'_num_slices': u'1'}\u001b[0m\n",
      "\u001b[32m[12/03/2018 10:48:23 INFO 140440491001664] Reading provided configuration from /opt/ml/input/config/hyperparameters.json: {u'feature_dim': u'784', u'k': u'10', u'force_dense': u'True'}\u001b[0m\n",
      "\u001b[32m[12/03/2018 10:48:23 INFO 140440491001664] Final configuration: {u'k': u'10', u'_tuning_objective_metric': u'', u'_num_gpus': u'auto', u'local_lloyd_num_trials': u'auto', u'_log_level': u'info', u'_kvstore': u'auto', u'local_lloyd_init_method': u'kmeans++', u'force_dense': u'True', u'epochs': u'1', u'init_method': u'random', u'feature_dim': u'784', u'local_lloyd_tol': u'0.0001', u'local_lloyd_max_iter': u'300', u'_disable_wait_to_read': u'false', u'extra_center_factor': u'auto', u'eval_metrics': u'[\"msd\"]', u'_num_kv_servers': u'1', u'mini_batch_size': u'5000', u'half_life_time_size': u'0', u'_num_slices': u'1'}\u001b[0m\n",
      "\u001b[32m[12/03/2018 10:48:23 WARNING 140440491001664] Loggers have already been setup.\u001b[0m\n",
      "\u001b[32m[12/03/2018 10:48:23 INFO 140440491001664] Environment: {'ECS_CONTAINER_METADATA_URI': 'http://169.254.170.2/v3/6c3dc0de-e03c-410e-be57-f445a6d4304f', 'PROTOCOL_BUFFERS_PYTHON_IMPLEMENTATION_VERSION': '2', 'DMLC_PS_ROOT_PORT': '9000', 'DMLC_NUM_WORKER': '2', 'SAGEMAKER_HTTP_PORT': '8080', 'PATH': '/opt/amazon/bin:/usr/local/nvidia/bin:/usr/local/sbin:/usr/local/bin:/usr/sbin:/usr/bin:/sbin:/bin:/opt/amazon/bin:/opt/amazon/bin', 'PYTHONUNBUFFERED': 'TRUE', 'CANONICAL_ENVROOT': '/opt/amazon', 'LD_LIBRARY_PATH': '/usr/local/nvidia/lib64:/opt/amazon/lib', 'MXNET_KVSTORE_BIGARRAY_BOUND': '400000000', 'LANG': 'en_US.utf8', 'DMLC_INTERFACE': 'ethwe', 'SHLVL': '1', 'DMLC_PS_ROOT_URI': '10.40.0.4', 'AWS_REGION': 'ap-northeast-1', 'NVIDIA_VISIBLE_DEVICES': 'all', 'TRAINING_JOB_NAME': 'kmeans-2018-12-03-10-45-12-933', 'HOME': '/root', 'PROTOCOL_BUFFERS_PYTHON_IMPLEMENTATION': 'cpp', 'ENVROOT': '/opt/amazon', 'SAGEMAKER_DATA_PATH': '/opt/ml', 'NVIDIA_DRIVER_CAPABILITIES': 'compute,utility', 'NVIDIA_REQUIRE_CUDA': 'cuda>=9.0', 'OMP_NUM_THREADS': '18', 'HOSTNAME': 'aws', 'AWS_CONTAINER_CREDENTIALS_RELATIVE_URI': '/v2/credentials/007f7174-96b0-447b-aa18-42925407ff9e', 'DMLC_ROLE': 'worker', 'PWD': '/', 'DMLC_NUM_SERVER': '1', 'AWS_EXECUTION_ENV': 'AWS_ECS_EC2'}\u001b[0m\n",
      "\u001b[32mProcess 1 is a worker.\u001b[0m\n",
      "\u001b[32m[12/03/2018 10:48:23 INFO 140440491001664] Using default worker.\u001b[0m\n",
      "\u001b[32m[12/03/2018 10:48:23 INFO 140440491001664] Loaded iterator creator application/x-recordio-protobuf for content type ('application/x-recordio-protobuf', '1.0')\u001b[0m\n",
      "\u001b[32m[12/03/2018 10:48:23 INFO 140440491001664] Create Store: dist_async\u001b[0m\n",
      "\u001b[32m[12/03/2018 10:48:24 INFO 140440491001664] nvidia-smi took: 0.0252151489258 secs to identify 0 gpus\u001b[0m\n",
      "\u001b[32m[12/03/2018 10:48:24 INFO 140440491001664] Number of GPUs being used: 0\u001b[0m\n",
      "\u001b[32m[2018-12-03 10:48:24.879] [tensorio] [info] batch={\"data_pipeline\": \"/opt/ml/input/data/train\", \"num_examples\": 5000, \"features\": [{\"name\": \"values\", \"shape\": [784], \"storage_type\": \"dense\"}]}\u001b[0m\n",
      "\u001b[32m[12/03/2018 10:48:24 INFO 140440491001664] Setting up with params: {u'k': u'10', u'_tuning_objective_metric': u'', u'_num_gpus': u'auto', u'local_lloyd_num_trials': u'auto', u'_log_level': u'info', u'_kvstore': u'auto', u'local_lloyd_init_method': u'kmeans++', u'force_dense': u'True', u'epochs': u'1', u'init_method': u'random', u'feature_dim': u'784', u'local_lloyd_tol': u'0.0001', u'local_lloyd_max_iter': u'300', u'_disable_wait_to_read': u'false', u'extra_center_factor': u'auto', u'eval_metrics': u'[\"msd\"]', u'_num_kv_servers': u'1', u'mini_batch_size': u'5000', u'half_life_time_size': u'0', u'_num_slices': u'1'}\u001b[0m\n",
      "\u001b[32m/opt/amazon/lib/python2.7/site-packages/ai_algorithms_sdk/config/config_helper.py:172: DeprecationWarning: deprecated\n",
      "  warnings.warn(\"deprecated\", DeprecationWarning)\u001b[0m\n",
      "\u001b[32m/opt/amazon/lib/python2.7/site-packages/ai_algorithms_sdk/config/config_helper.py:122: DeprecationWarning: deprecated\n",
      "  warnings.warn(\"deprecated\", DeprecationWarning)\u001b[0m\n",
      "\u001b[32m[12/03/2018 10:48:24 INFO 140440491001664] Number of GPUs being used: 0\u001b[0m\n",
      "\u001b[32m[12/03/2018 10:48:24 INFO 140440491001664] number of center slices 1\u001b[0m\n",
      "\u001b[32m#metrics {\"Metrics\": {\"Max Batches Seen Between Resets\": {\"count\": 1, \"max\": 1, \"sum\": 1.0, \"min\": 1}, \"Number of Batches Since Last Reset\": {\"count\": 1, \"max\": 1, \"sum\": 1.0, \"min\": 1}, \"Number of Records Since Last Reset\": {\"count\": 1, \"max\": 5000, \"sum\": 5000.0, \"min\": 5000}, \"Total Batches Seen\": {\"count\": 1, \"max\": 1, \"sum\": 1.0, \"min\": 1}, \"Total Records Seen\": {\"count\": 1, \"max\": 5000, \"sum\": 5000.0, \"min\": 5000}, \"Max Records Seen Between Resets\": {\"count\": 1, \"max\": 5000, \"sum\": 5000.0, \"min\": 5000}, \"Reset Count\": {\"count\": 1, \"max\": 0, \"sum\": 0.0, \"min\": 0}}, \"EndTime\": 1543834104.917543, \"Dimensions\": {\"Host\": \"algo-2\", \"Meta\": \"init_train_data_iter\", \"Operation\": \"training\", \"Algorithm\": \"AWS/KMeansWebscale\"}, \"StartTime\": 1543834104.917516}\n",
      "\u001b[0m\n",
      "\u001b[32m[2018-12-03 10:48:24.935] [tensorio] [info] data_pipeline_stats={\"name\": \"/opt/ml/input/data/train\", \"epoch\": 0, \"duration\": 57, \"num_examples\": 1}\u001b[0m\n",
      "\u001b[32m[12/03/2018 10:48:25 INFO 140440491001664] processed a total of 25000 examples\u001b[0m\n",
      "\u001b[32m[12/03/2018 10:48:25 INFO 140440491001664] #progress_metric: host=algo-2, completed 100 % of epochs\u001b[0m\n",
      "\u001b[32m#metrics {\"Metrics\": {\"Max Batches Seen Between Resets\": {\"count\": 1, \"max\": 5, \"sum\": 5.0, \"min\": 5}, \"Number of Batches Since Last Reset\": {\"count\": 1, \"max\": 5, \"sum\": 5.0, \"min\": 5}, \"Number of Records Since Last Reset\": {\"count\": 1, \"max\": 25000, \"sum\": 25000.0, \"min\": 25000}, \"Total Batches Seen\": {\"count\": 1, \"max\": 6, \"sum\": 6.0, \"min\": 6}, \"Total Records Seen\": {\"count\": 1, \"max\": 30000, \"sum\": 30000.0, \"min\": 30000}, \"Max Records Seen Between Resets\": {\"count\": 1, \"max\": 25000, \"sum\": 25000.0, \"min\": 25000}, \"Reset Count\": {\"count\": 1, \"max\": 1, \"sum\": 1.0, \"min\": 1}}, \"EndTime\": 1543834105.113084, \"Dimensions\": {\"Host\": \"algo-2\", \"Meta\": \"training_data_iter\", \"Operation\": \"training\", \"Algorithm\": \"AWS/KMeansWebscale\", \"epoch\": 0}, \"StartTime\": 1543834104.935575}\n",
      "\u001b[0m\n",
      "\u001b[32m[12/03/2018 10:48:25 INFO 140440491001664] #throughput_metric: host=algo-2, train throughput=140717.290801 records/second\u001b[0m\n",
      "\u001b[32m[12/03/2018 10:48:25 INFO 140440491001664] shrinking 100 centers into 10\u001b[0m\n",
      "\u001b[32m[12/03/2018 10:48:25 INFO 140440491001664] local kmeans attempt #0. Current mean square distance 11.089091\u001b[0m\n",
      "\u001b[32m[12/03/2018 10:48:25 INFO 140440491001664] local kmeans attempt #1. Current mean square distance 11.342165\u001b[0m\n",
      "\u001b[32m[12/03/2018 10:48:25 INFO 140440491001664] local kmeans attempt #2. Current mean square distance 10.846834\u001b[0m\n",
      "\u001b[32m[12/03/2018 10:48:25 INFO 140440491001664] local kmeans attempt #3. Current mean square distance 10.827636\u001b[0m\n",
      "\u001b[32m[12/03/2018 10:48:25 INFO 140440491001664] local kmeans attempt #4. Current mean square distance 11.003044\u001b[0m\n",
      "\u001b[32m[12/03/2018 10:48:25 INFO 140440491001664] local kmeans attempt #5. Current mean square distance 11.275094\u001b[0m\n",
      "\u001b[32m[12/03/2018 10:48:25 INFO 140440491001664] local kmeans attempt #6. Current mean square distance 11.073128\u001b[0m\n",
      "\u001b[32m[12/03/2018 10:48:25 INFO 140440491001664] local kmeans attempt #7. Current mean square distance 11.135583\u001b[0m\n",
      "\u001b[32m[12/03/2018 10:48:25 INFO 140440491001664] local kmeans attempt #8. Current mean square distance 11.238770\u001b[0m\n",
      "\u001b[32m[12/03/2018 10:48:25 INFO 140440491001664] local kmeans attempt #9. Current mean square distance 11.113794\u001b[0m\n",
      "\u001b[32m[12/03/2018 10:48:25 INFO 140440491001664] finished shrinking process. Mean Square Distance = 11\u001b[0m\n",
      "\u001b[32m[12/03/2018 10:48:25 INFO 140440491001664] #quality_metric: host=algo-2, train msd <loss>=10.8276357651\u001b[0m\n",
      "\u001b[32m[12/03/2018 10:48:25 INFO 140440491001664] batch data loading with context took: 22.8044%, (0.040945 secs)\u001b[0m\n",
      "\u001b[32m[12/03/2018 10:48:25 INFO 140440491001664] compute all data-center distances: point norm took: 18.8836%, (0.033905 secs)\u001b[0m\n",
      "\u001b[32m[12/03/2018 10:48:25 INFO 140440491001664] predict compute msd took: 16.5841%, (0.029776 secs)\u001b[0m\n",
      "\u001b[32m[12/03/2018 10:48:25 INFO 140440491001664] compute all data-center distances: inner product took: 16.4324%, (0.029504 secs)\u001b[0m\n",
      "\u001b[32m[12/03/2018 10:48:25 INFO 140440491001664] collect from kv store took: 9.0841%, (0.016310 secs)\u001b[0m\n",
      "\u001b[32m[12/03/2018 10:48:25 INFO 140440491001664] gradient: cluster center took: 8.5593%, (0.015368 secs)\u001b[0m\n",
      "\u001b[32m[12/03/2018 10:48:25 INFO 140440491001664] splitting centers key-value pair took: 2.3421%, (0.004205 secs)\u001b[0m\n",
      "\u001b[32m[12/03/2018 10:48:25 INFO 140440491001664] gradient: one_hot took: 1.8435%, (0.003310 secs)\u001b[0m\n",
      "\u001b[32m[12/03/2018 10:48:25 INFO 140440491001664] gradient: cluster size  took: 1.7256%, (0.003098 secs)\u001b[0m\n",
      "\u001b[32m[12/03/2018 10:48:25 INFO 140440491001664] compute all data-center distances: center norm took: 0.8048%, (0.001445 secs)\u001b[0m\n",
      "\u001b[32m[12/03/2018 10:48:25 INFO 140440491001664] update state and report convergance took: 0.7611%, (0.001367 secs)\u001b[0m\n",
      "\u001b[32m[12/03/2018 10:48:25 INFO 140440491001664] update set-up time took: 0.1041%, (0.000187 secs)\u001b[0m\n",
      "\u001b[32m[12/03/2018 10:48:25 INFO 140440491001664] predict minus dist took: 0.0708%, (0.000127 secs)\u001b[0m\n",
      "\u001b[32m[12/03/2018 10:48:25 INFO 140440491001664] TOTAL took: 0.179547548294\u001b[0m\n",
      "\u001b[32m[12/03/2018 10:48:25 INFO 140440491001664] Number of GPUs being used: 0\u001b[0m\n",
      "\u001b[32m[12/03/2018 10:48:25 INFO 140440491001664] No model is serialized on a non-master node\u001b[0m\n",
      "\u001b[32m#metrics {\"Metrics\": {\"finalize.time\": {\"count\": 1, \"max\": 309.7240924835205, \"sum\": 309.7240924835205, \"min\": 309.7240924835205}, \"initialize.time\": {\"count\": 1, \"max\": 18.87798309326172, \"sum\": 18.87798309326172, \"min\": 18.87798309326172}, \"model.serialize.time\": {\"count\": 1, \"max\": 0.07915496826171875, \"sum\": 0.07915496826171875, \"min\": 0.07915496826171875}, \"update.time\": {\"count\": 1, \"max\": 177.31094360351562, \"sum\": 177.31094360351562, \"min\": 177.31094360351562}, \"epochs\": {\"count\": 1, \"max\": 1, \"sum\": 1.0, \"min\": 1}, \"state.serialize.time\": {\"count\": 1, \"max\": 0.5528926849365234, \"sum\": 0.5528926849365234, \"min\": 0.5528926849365234}, \"_shrink.time\": {\"count\": 1, \"max\": 306.304931640625, \"sum\": 306.304931640625, \"min\": 306.304931640625}}, \"EndTime\": 1543834105.441238, \"Dimensions\": {\"Host\": \"algo-2\", \"Operation\": \"training\", \"Algorithm\": \"AWS/KMeansWebscale\"}, \"StartTime\": 1543834104.876918}\n",
      "\u001b[0m\n",
      "\u001b[32m[12/03/2018 10:48:25 INFO 140440491001664] Test data is not provided.\u001b[0m\n",
      "\u001b[32m[2018-12-03 10:48:25.441] [tensorio] [info] data_pipeline_stats={\"name\": \"/opt/ml/input/data/train\", \"epoch\": 1, \"duration\": 505, \"num_examples\": 5}\u001b[0m\n",
      "\u001b[32m[2018-12-03 10:48:25.441] [tensorio] [info] data_pipeline_stats={\"name\": \"/opt/ml/input/data/train\", \"duration\": 562, \"num_epochs\": 2, \"num_examples\": 6}\u001b[0m\n",
      "\u001b[32m#metrics {\"Metrics\": {\"totaltime\": {\"count\": 1, \"max\": 2108.520030975342, \"sum\": 2108.520030975342, \"min\": 2108.520030975342}, \"setuptime\": {\"count\": 1, \"max\": 20.985126495361328, \"sum\": 20.985126495361328, \"min\": 20.985126495361328}}, \"EndTime\": 1543834105.445652, \"Dimensions\": {\"Host\": \"algo-2\", \"Operation\": \"training\", \"Algorithm\": \"AWS/KMeansWebscale\"}, \"StartTime\": 1543834105.441385}\n",
      "\u001b[0m\n",
      "\u001b[31mDocker entrypoint called with argument(s): train\u001b[0m\n",
      "\u001b[31m[12/03/2018 10:48:23 INFO 140075288848192] Reading default configuration from /opt/amazon/lib/python2.7/site-packages/algorithm/resources/default-input.json: {u'_tuning_objective_metric': u'', u'_num_gpus': u'auto', u'local_lloyd_num_trials': u'auto', u'_log_level': u'info', u'_kvstore': u'auto', u'local_lloyd_init_method': u'kmeans++', u'force_dense': u'true', u'epochs': u'1', u'init_method': u'random', u'local_lloyd_tol': u'0.0001', u'local_lloyd_max_iter': u'300', u'_disable_wait_to_read': u'false', u'extra_center_factor': u'auto', u'eval_metrics': u'[\"msd\"]', u'_num_kv_servers': u'1', u'mini_batch_size': u'5000', u'half_life_time_size': u'0', u'_num_slices': u'1'}\u001b[0m\n",
      "\u001b[31m[12/03/2018 10:48:23 INFO 140075288848192] Reading provided configuration from /opt/ml/input/config/hyperparameters.json: {u'feature_dim': u'784', u'k': u'10', u'force_dense': u'True'}\u001b[0m\n",
      "\u001b[31m[12/03/2018 10:48:23 INFO 140075288848192] Final configuration: {u'k': u'10', u'_tuning_objective_metric': u'', u'_num_gpus': u'auto', u'local_lloyd_num_trials': u'auto', u'_log_level': u'info', u'_kvstore': u'auto', u'local_lloyd_init_method': u'kmeans++', u'force_dense': u'True', u'epochs': u'1', u'init_method': u'random', u'feature_dim': u'784', u'local_lloyd_tol': u'0.0001', u'local_lloyd_max_iter': u'300', u'_disable_wait_to_read': u'false', u'extra_center_factor': u'auto', u'eval_metrics': u'[\"msd\"]', u'_num_kv_servers': u'1', u'mini_batch_size': u'5000', u'half_life_time_size': u'0', u'_num_slices': u'1'}\u001b[0m\n",
      "\u001b[31m[12/03/2018 10:48:23 WARNING 140075288848192] Loggers have already been setup.\u001b[0m\n",
      "\u001b[31m[12/03/2018 10:48:23 INFO 140075288848192] Launching parameter server for role scheduler\u001b[0m\n",
      "\u001b[31m[12/03/2018 10:48:23 INFO 140075288848192] {'ECS_CONTAINER_METADATA_URI': 'http://169.254.170.2/v3/6dd94c0a-082f-4427-b8ef-91dc10f675e2', 'PROTOCOL_BUFFERS_PYTHON_IMPLEMENTATION_VERSION': '2', 'PATH': '/opt/amazon/bin:/usr/local/nvidia/bin:/usr/local/sbin:/usr/local/bin:/usr/sbin:/usr/bin:/sbin:/bin:/opt/amazon/bin:/opt/amazon/bin', 'SAGEMAKER_HTTP_PORT': '8080', 'HOME': '/root', 'PYTHONUNBUFFERED': 'TRUE', 'CANONICAL_ENVROOT': '/opt/amazon', 'LD_LIBRARY_PATH': '/usr/local/nvidia/lib64:/opt/amazon/lib', 'MXNET_KVSTORE_BIGARRAY_BOUND': '400000000', 'LANG': 'en_US.utf8', 'DMLC_INTERFACE': 'ethwe', 'SHLVL': '1', 'AWS_REGION': 'ap-northeast-1', 'NVIDIA_VISIBLE_DEVICES': 'all', 'TRAINING_JOB_NAME': 'kmeans-2018-12-03-10-45-12-933', 'PROTOCOL_BUFFERS_PYTHON_IMPLEMENTATION': 'cpp', 'ENVROOT': '/opt/amazon', 'SAGEMAKER_DATA_PATH': '/opt/ml', 'NVIDIA_DRIVER_CAPABILITIES': 'compute,utility', 'NVIDIA_REQUIRE_CUDA': 'cuda>=9.0', 'OMP_NUM_THREADS': '18', 'HOSTNAME': 'aws', 'AWS_CONTAINER_CREDENTIALS_RELATIVE_URI': '/v2/credentials/262818f2-dec2-4bec-9158-9c87e6efcf85', 'PWD': '/', 'AWS_EXECUTION_ENV': 'AWS_ECS_EC2'}\u001b[0m\n",
      "\u001b[31m[12/03/2018 10:48:23 INFO 140075288848192] envs={'ECS_CONTAINER_METADATA_URI': 'http://169.254.170.2/v3/6dd94c0a-082f-4427-b8ef-91dc10f675e2', 'PROTOCOL_BUFFERS_PYTHON_IMPLEMENTATION_VERSION': '2', 'DMLC_NUM_WORKER': '2', 'DMLC_PS_ROOT_PORT': '9000', 'PATH': '/opt/amazon/bin:/usr/local/nvidia/bin:/usr/local/sbin:/usr/local/bin:/usr/sbin:/usr/bin:/sbin:/bin:/opt/amazon/bin:/opt/amazon/bin', 'SAGEMAKER_HTTP_PORT': '8080', 'HOME': '/root', 'PYTHONUNBUFFERED': 'TRUE', 'CANONICAL_ENVROOT': '/opt/amazon', 'LD_LIBRARY_PATH': '/usr/local/nvidia/lib64:/opt/amazon/lib', 'MXNET_KVSTORE_BIGARRAY_BOUND': '400000000', 'LANG': 'en_US.utf8', 'DMLC_INTERFACE': 'ethwe', 'SHLVL': '1', 'DMLC_PS_ROOT_URI': '10.40.0.4', 'AWS_REGION': 'ap-northeast-1', 'NVIDIA_VISIBLE_DEVICES': 'all', 'TRAINING_JOB_NAME': 'kmeans-2018-12-03-10-45-12-933', 'PROTOCOL_BUFFERS_PYTHON_IMPLEMENTATION': 'cpp', 'ENVROOT': '/opt/amazon', 'SAGEMAKER_DATA_PATH': '/opt/ml', 'NVIDIA_DRIVER_CAPABILITIES': 'compute,utility', 'NVIDIA_REQUIRE_CUDA': 'cuda>=9.0', 'OMP_NUM_THREADS': '18', 'HOSTNAME': 'aws', 'AWS_CONTAINER_CREDENTIALS_RELATIVE_URI': '/v2/credentials/262818f2-dec2-4bec-9158-9c87e6efcf85', 'DMLC_ROLE': 'scheduler', 'PWD': '/', 'DMLC_NUM_SERVER': '1', 'AWS_EXECUTION_ENV': 'AWS_ECS_EC2'}\u001b[0m\n",
      "\u001b[31m[12/03/2018 10:48:23 INFO 140075288848192] Launching parameter server for role server\u001b[0m\n",
      "\u001b[31m[12/03/2018 10:48:23 INFO 140075288848192] {'ECS_CONTAINER_METADATA_URI': 'http://169.254.170.2/v3/6dd94c0a-082f-4427-b8ef-91dc10f675e2', 'PROTOCOL_BUFFERS_PYTHON_IMPLEMENTATION_VERSION': '2', 'PATH': '/opt/amazon/bin:/usr/local/nvidia/bin:/usr/local/sbin:/usr/local/bin:/usr/sbin:/usr/bin:/sbin:/bin:/opt/amazon/bin:/opt/amazon/bin', 'SAGEMAKER_HTTP_PORT': '8080', 'HOME': '/root', 'PYTHONUNBUFFERED': 'TRUE', 'CANONICAL_ENVROOT': '/opt/amazon', 'LD_LIBRARY_PATH': '/usr/local/nvidia/lib64:/opt/amazon/lib', 'MXNET_KVSTORE_BIGARRAY_BOUND': '400000000', 'LANG': 'en_US.utf8', 'DMLC_INTERFACE': 'ethwe', 'SHLVL': '1', 'AWS_REGION': 'ap-northeast-1', 'NVIDIA_VISIBLE_DEVICES': 'all', 'TRAINING_JOB_NAME': 'kmeans-2018-12-03-10-45-12-933', 'PROTOCOL_BUFFERS_PYTHON_IMPLEMENTATION': 'cpp', 'ENVROOT': '/opt/amazon', 'SAGEMAKER_DATA_PATH': '/opt/ml', 'NVIDIA_DRIVER_CAPABILITIES': 'compute,utility', 'NVIDIA_REQUIRE_CUDA': 'cuda>=9.0', 'OMP_NUM_THREADS': '18', 'HOSTNAME': 'aws', 'AWS_CONTAINER_CREDENTIALS_RELATIVE_URI': '/v2/credentials/262818f2-dec2-4bec-9158-9c87e6efcf85', 'PWD': '/', 'AWS_EXECUTION_ENV': 'AWS_ECS_EC2'}\u001b[0m\n",
      "\u001b[31m[12/03/2018 10:48:23 INFO 140075288848192] envs={'ECS_CONTAINER_METADATA_URI': 'http://169.254.170.2/v3/6dd94c0a-082f-4427-b8ef-91dc10f675e2', 'PROTOCOL_BUFFERS_PYTHON_IMPLEMENTATION_VERSION': '2', 'DMLC_NUM_WORKER': '2', 'DMLC_PS_ROOT_PORT': '9000', 'PATH': '/opt/amazon/bin:/usr/local/nvidia/bin:/usr/local/sbin:/usr/local/bin:/usr/sbin:/usr/bin:/sbin:/bin:/opt/amazon/bin:/opt/amazon/bin', 'SAGEMAKER_HTTP_PORT': '8080', 'HOME': '/root', 'PYTHONUNBUFFERED': 'TRUE', 'CANONICAL_ENVROOT': '/opt/amazon', 'LD_LIBRARY_PATH': '/usr/local/nvidia/lib64:/opt/amazon/lib', 'MXNET_KVSTORE_BIGARRAY_BOUND': '400000000', 'LANG': 'en_US.utf8', 'DMLC_INTERFACE': 'ethwe', 'SHLVL': '1', 'DMLC_PS_ROOT_URI': '10.40.0.4', 'AWS_REGION': 'ap-northeast-1', 'NVIDIA_VISIBLE_DEVICES': 'all', 'TRAINING_JOB_NAME': 'kmeans-2018-12-03-10-45-12-933', 'PROTOCOL_BUFFERS_PYTHON_IMPLEMENTATION': 'cpp', 'ENVROOT': '/opt/amazon', 'SAGEMAKER_DATA_PATH': '/opt/ml', 'NVIDIA_DRIVER_CAPABILITIES': 'compute,utility', 'NVIDIA_REQUIRE_CUDA': 'cuda>=9.0', 'OMP_NUM_THREADS': '18', 'HOSTNAME': 'aws', 'AWS_CONTAINER_CREDENTIALS_RELATIVE_URI': '/v2/credentials/262818f2-dec2-4bec-9158-9c87e6efcf85', 'DMLC_ROLE': 'server', 'PWD': '/', 'DMLC_NUM_SERVER': '1', 'AWS_EXECUTION_ENV': 'AWS_ECS_EC2'}\u001b[0m\n",
      "\u001b[31m[12/03/2018 10:48:23 INFO 140075288848192] Environment: {'ECS_CONTAINER_METADATA_URI': 'http://169.254.170.2/v3/6dd94c0a-082f-4427-b8ef-91dc10f675e2', 'PROTOCOL_BUFFERS_PYTHON_IMPLEMENTATION_VERSION': '2', 'DMLC_PS_ROOT_PORT': '9000', 'DMLC_NUM_WORKER': '2', 'SAGEMAKER_HTTP_PORT': '8080', 'PATH': '/opt/amazon/bin:/usr/local/nvidia/bin:/usr/local/sbin:/usr/local/bin:/usr/sbin:/usr/bin:/sbin:/bin:/opt/amazon/bin:/opt/amazon/bin', 'PYTHONUNBUFFERED': 'TRUE', 'CANONICAL_ENVROOT': '/opt/amazon', 'LD_LIBRARY_PATH': '/usr/local/nvidia/lib64:/opt/amazon/lib', 'MXNET_KVSTORE_BIGARRAY_BOUND': '400000000', 'LANG': 'en_US.utf8', 'DMLC_INTERFACE': 'ethwe', 'SHLVL': '1', 'DMLC_PS_ROOT_URI': '10.40.0.4', 'AWS_REGION': 'ap-northeast-1', 'NVIDIA_VISIBLE_DEVICES': 'all', 'TRAINING_JOB_NAME': 'kmeans-2018-12-03-10-45-12-933', 'HOME': '/root', 'PROTOCOL_BUFFERS_PYTHON_IMPLEMENTATION': 'cpp', 'ENVROOT': '/opt/amazon', 'SAGEMAKER_DATA_PATH': '/opt/ml', 'NVIDIA_DRIVER_CAPABILITIES': 'compute,utility', 'NVIDIA_REQUIRE_CUDA': 'cuda>=9.0', 'OMP_NUM_THREADS': '18', 'HOSTNAME': 'aws', 'AWS_CONTAINER_CREDENTIALS_RELATIVE_URI': '/v2/credentials/262818f2-dec2-4bec-9158-9c87e6efcf85', 'DMLC_ROLE': 'worker', 'PWD': '/', 'DMLC_NUM_SERVER': '1', 'AWS_EXECUTION_ENV': 'AWS_ECS_EC2'}\u001b[0m\n",
      "\u001b[31mProcess 69 is a shell:scheduler.\u001b[0m\n",
      "\u001b[31mProcess 71 is a shell:server.\u001b[0m\n",
      "\u001b[31mProcess 1 is a worker.\u001b[0m\n",
      "\u001b[31m[12/03/2018 10:48:23 INFO 140075288848192] Using default worker.\u001b[0m\n",
      "\u001b[31m[12/03/2018 10:48:23 INFO 140075288848192] Loaded iterator creator application/x-recordio-protobuf for content type ('application/x-recordio-protobuf', '1.0')\u001b[0m\n",
      "\u001b[31m[12/03/2018 10:48:23 INFO 140075288848192] Create Store: dist_async\u001b[0m\n",
      "\u001b[31m[12/03/2018 10:48:24 INFO 140075288848192] nvidia-smi took: 0.0252730846405 secs to identify 0 gpus\u001b[0m\n",
      "\u001b[31m[12/03/2018 10:48:24 INFO 140075288848192] Number of GPUs being used: 0\u001b[0m\n",
      "\u001b[31m[2018-12-03 10:48:24.878] [tensorio] [info] batch={\"data_pipeline\": \"/opt/ml/input/data/train\", \"num_examples\": 5000, \"features\": [{\"name\": \"values\", \"shape\": [784], \"storage_type\": \"dense\"}]}\u001b[0m\n",
      "\u001b[31m[12/03/2018 10:48:24 INFO 140075288848192] Setting up with params: {u'k': u'10', u'_tuning_objective_metric': u'', u'_num_gpus': u'auto', u'local_lloyd_num_trials': u'auto', u'_log_level': u'info', u'_kvstore': u'auto', u'local_lloyd_init_method': u'kmeans++', u'force_dense': u'True', u'epochs': u'1', u'init_method': u'random', u'feature_dim': u'784', u'local_lloyd_tol': u'0.0001', u'local_lloyd_max_iter': u'300', u'_disable_wait_to_read': u'false', u'extra_center_factor': u'auto', u'eval_metrics': u'[\"msd\"]', u'_num_kv_servers': u'1', u'mini_batch_size': u'5000', u'half_life_time_size': u'0', u'_num_slices': u'1'}\u001b[0m\n",
      "\u001b[31m/opt/amazon/lib/python2.7/site-packages/ai_algorithms_sdk/config/config_helper.py:172: DeprecationWarning: deprecated\n",
      "  warnings.warn(\"deprecated\", DeprecationWarning)\u001b[0m\n",
      "\u001b[31m/opt/amazon/lib/python2.7/site-packages/ai_algorithms_sdk/config/config_helper.py:122: DeprecationWarning: deprecated\n",
      "  warnings.warn(\"deprecated\", DeprecationWarning)\u001b[0m\n",
      "\u001b[31m[12/03/2018 10:48:24 INFO 140075288848192] Number of GPUs being used: 0\u001b[0m\n",
      "\u001b[31m[12/03/2018 10:48:24 INFO 140075288848192] number of center slices 1\u001b[0m\n",
      "\u001b[31m#metrics {\"Metrics\": {\"Max Batches Seen Between Resets\": {\"count\": 1, \"max\": 1, \"sum\": 1.0, \"min\": 1}, \"Number of Batches Since Last Reset\": {\"count\": 1, \"max\": 1, \"sum\": 1.0, \"min\": 1}, \"Number of Records Since Last Reset\": {\"count\": 1, \"max\": 5000, \"sum\": 5000.0, \"min\": 5000}, \"Total Batches Seen\": {\"count\": 1, \"max\": 1, \"sum\": 1.0, \"min\": 1}, \"Total Records Seen\": {\"count\": 1, \"max\": 5000, \"sum\": 5000.0, \"min\": 5000}, \"Max Records Seen Between Resets\": {\"count\": 1, \"max\": 5000, \"sum\": 5000.0, \"min\": 5000}, \"Reset Count\": {\"count\": 1, \"max\": 0, \"sum\": 0.0, \"min\": 0}}, \"EndTime\": 1543834104.915964, \"Dimensions\": {\"Host\": \"algo-1\", \"Meta\": \"init_train_data_iter\", \"Operation\": \"training\", \"Algorithm\": \"AWS/KMeansWebscale\"}, \"StartTime\": 1543834104.915928}\n",
      "\u001b[0m\n",
      "\u001b[31m[2018-12-03 10:48:24.922] [tensorio] [info] data_pipeline_stats={\"name\": \"/opt/ml/input/data/train\", \"epoch\": 0, \"duration\": 44, \"num_examples\": 1}\u001b[0m\n",
      "\u001b[31m[12/03/2018 10:48:25 INFO 140075288848192] processed a total of 25000 examples\u001b[0m\n",
      "\u001b[31m[12/03/2018 10:48:25 INFO 140075288848192] #progress_metric: host=algo-1, completed 100 % of epochs\u001b[0m\n",
      "\u001b[31m#metrics {\"Metrics\": {\"Max Batches Seen Between Resets\": {\"count\": 1, \"max\": 5, \"sum\": 5.0, \"min\": 5}, \"Number of Batches Since Last Reset\": {\"count\": 1, \"max\": 5, \"sum\": 5.0, \"min\": 5}, \"Number of Records Since Last Reset\": {\"count\": 1, \"max\": 25000, \"sum\": 25000.0, \"min\": 25000}, \"Total Batches Seen\": {\"count\": 1, \"max\": 6, \"sum\": 6.0, \"min\": 6}, \"Total Records Seen\": {\"count\": 1, \"max\": 30000, \"sum\": 30000.0, \"min\": 30000}, \"Max Records Seen Between Resets\": {\"count\": 1, \"max\": 25000, \"sum\": 25000.0, \"min\": 25000}, \"Reset Count\": {\"count\": 1, \"max\": 1, \"sum\": 1.0, \"min\": 1}}, \"EndTime\": 1543834105.128657, \"Dimensions\": {\"Host\": \"algo-1\", \"Meta\": \"training_data_iter\", \"Operation\": \"training\", \"Algorithm\": \"AWS/KMeansWebscale\", \"epoch\": 0}, \"StartTime\": 1543834104.92241}\n",
      "\u001b[0m\n",
      "\u001b[31m[12/03/2018 10:48:25 INFO 140075288848192] #throughput_metric: host=algo-1, train throughput=121140.451509 records/second\u001b[0m\n",
      "\u001b[31m[12/03/2018 10:48:25 INFO 140075288848192] shrinking 100 centers into 10\u001b[0m\n",
      "\u001b[31m[12/03/2018 10:48:25 INFO 140075288848192] local kmeans attempt #0. Current mean square distance 11.372653\u001b[0m\n",
      "\u001b[31m[12/03/2018 10:48:25 INFO 140075288848192] local kmeans attempt #1. Current mean square distance 11.009486\u001b[0m\n",
      "\u001b[31m[12/03/2018 10:48:25 INFO 140075288848192] local kmeans attempt #2. Current mean square distance 10.887632\u001b[0m\n",
      "\u001b[31m[12/03/2018 10:48:25 INFO 140075288848192] local kmeans attempt #3. Current mean square distance 10.632155\u001b[0m\n",
      "\u001b[31m[12/03/2018 10:48:25 INFO 140075288848192] local kmeans attempt #4. Current mean square distance 11.065941\u001b[0m\n",
      "\u001b[31m[12/03/2018 10:48:25 INFO 140075288848192] local kmeans attempt #5. Current mean square distance 11.111566\u001b[0m\n",
      "\u001b[31m[12/03/2018 10:48:25 INFO 140075288848192] local kmeans attempt #6. Current mean square distance 11.017051\u001b[0m\n",
      "\u001b[31m[12/03/2018 10:48:25 INFO 140075288848192] local kmeans attempt #7. Current mean square distance 10.675889\u001b[0m\n",
      "\u001b[31m[12/03/2018 10:48:25 INFO 140075288848192] local kmeans attempt #8. Current mean square distance 11.057467\u001b[0m\n",
      "\u001b[31m[12/03/2018 10:48:25 INFO 140075288848192] local kmeans attempt #9. Current mean square distance 10.981050\u001b[0m\n",
      "\u001b[31m[12/03/2018 10:48:25 INFO 140075288848192] finished shrinking process. Mean Square Distance = 11\u001b[0m\n",
      "\u001b[31m[12/03/2018 10:48:25 INFO 140075288848192] #quality_metric: host=algo-1, train msd <loss>=10.6321554184\u001b[0m\n",
      "\u001b[31m[12/03/2018 10:48:25 INFO 140075288848192] compute all data-center distances: inner product took: 27.6398%, (0.057440 secs)\u001b[0m\n",
      "\u001b[31m[12/03/2018 10:48:25 INFO 140075288848192] batch data loading with context took: 19.7650%, (0.041075 secs)\u001b[0m\n",
      "\u001b[31m[12/03/2018 10:48:25 INFO 140075288848192] compute all data-center distances: point norm took: 17.9523%, (0.037308 secs)\u001b[0m\n",
      "\u001b[31m[12/03/2018 10:48:25 INFO 140075288848192] predict compute msd took: 13.1768%, (0.027384 secs)\u001b[0m\n",
      "\u001b[31m[12/03/2018 10:48:25 INFO 140075288848192] gradient: cluster center took: 11.1775%, (0.023229 secs)\u001b[0m\n",
      "\u001b[31m[12/03/2018 10:48:25 INFO 140075288848192] collect from kv store took: 3.2045%, (0.006660 secs)\u001b[0m\n",
      "\u001b[31m[12/03/2018 10:48:25 INFO 140075288848192] gradient: cluster size  took: 2.0042%, (0.004165 secs)\u001b[0m\n",
      "\u001b[31m[12/03/2018 10:48:25 INFO 140075288848192] gradient: one_hot took: 1.8632%, (0.003872 secs)\u001b[0m\n",
      "\u001b[31m[12/03/2018 10:48:25 INFO 140075288848192] splitting centers key-value pair took: 1.7476%, (0.003632 secs)\u001b[0m\n",
      "\u001b[31m[12/03/2018 10:48:25 INFO 140075288848192] compute all data-center distances: center norm took: 0.6882%, (0.001430 secs)\u001b[0m\n",
      "\u001b[31m[12/03/2018 10:48:25 INFO 140075288848192] update state and report convergance took: 0.6249%, (0.001299 secs)\u001b[0m\n",
      "\u001b[31m[12/03/2018 10:48:25 INFO 140075288848192] update set-up time took: 0.0948%, (0.000197 secs)\u001b[0m\n",
      "\u001b[31m[12/03/2018 10:48:25 INFO 140075288848192] predict minus dist took: 0.0610%, (0.000127 secs)\u001b[0m\n",
      "\u001b[31m[12/03/2018 10:48:25 INFO 140075288848192] TOTAL took: 0.207817554474\u001b[0m\n",
      "\u001b[31m[12/03/2018 10:48:25 INFO 140075288848192] Number of GPUs being used: 0\u001b[0m\n",
      "\u001b[31m#metrics {\"Metrics\": {\"finalize.time\": {\"count\": 1, \"max\": 323.9779472351074, \"sum\": 323.9779472351074, \"min\": 323.9779472351074}, \"initialize.time\": {\"count\": 1, \"max\": 14.931917190551758, \"sum\": 14.931917190551758, \"min\": 14.931917190551758}, \"model.serialize.time\": {\"count\": 1, \"max\": 0.20194053649902344, \"sum\": 0.20194053649902344, \"min\": 0.20194053649902344}, \"update.time\": {\"count\": 1, \"max\": 206.04515075683594, \"sum\": 206.04515075683594, \"min\": 206.04515075683594}, \"epochs\": {\"count\": 1, \"max\": 1, \"sum\": 1.0, \"min\": 1}, \"state.serialize.time\": {\"count\": 1, \"max\": 0.5669593811035156, \"sum\": 0.5669593811035156, \"min\": 0.5669593811035156}, \"_shrink.time\": {\"count\": 1, \"max\": 321.9618797302246, \"sum\": 321.9618797302246, \"min\": 321.9618797302246}}, \"EndTime\": 1543834105.454091, \"Dimensions\": {\"Host\": \"algo-1\", \"Operation\": \"training\", \"Algorithm\": \"AWS/KMeansWebscale\"}, \"StartTime\": 1543834104.876585}\n",
      "\u001b[0m\n",
      "\u001b[31m[12/03/2018 10:48:25 INFO 140075288848192] Test data is not provided.\u001b[0m\n",
      "\u001b[31m[2018-12-03 10:48:25.454] [tensorio] [info] data_pipeline_stats={\"name\": \"/opt/ml/input/data/train\", \"epoch\": 1, \"duration\": 531, \"num_examples\": 5}\u001b[0m\n",
      "\u001b[31m[2018-12-03 10:48:25.454] [tensorio] [info] data_pipeline_stats={\"name\": \"/opt/ml/input/data/train\", \"duration\": 575, \"num_epochs\": 2, \"num_examples\": 6}\u001b[0m\n",
      "\u001b[31m#metrics {\"Metrics\": {\"totaltime\": {\"count\": 1, \"max\": 1663.3739471435547, \"sum\": 1663.3739471435547, \"min\": 1663.3739471435547}, \"setuptime\": {\"count\": 1, \"max\": 23.74887466430664, \"sum\": 23.74887466430664, \"min\": 23.74887466430664}}, \"EndTime\": 1543834105.458443, \"Dimensions\": {\"Host\": \"algo-1\", \"Operation\": \"training\", \"Algorithm\": \"AWS/KMeansWebscale\"}, \"StartTime\": 1543834105.454171}\n",
      "\u001b[0m\n"
     ]
    },
    {
     "name": "stdout",
     "output_type": "stream",
     "text": [
      "\n",
      "2018-12-03 10:48:36 Training - Training image download completed. Training in progress.\n",
      "2018-12-03 10:48:36 Uploading - Uploading generated training model\n",
      "2018-12-03 10:48:36 Completed - Training job completed\n",
      "Billable seconds: 81\n"
     ]
    }
   ],
   "source": [
    "# warningを非表示\n",
    "import warnings\n",
    "warnings.filterwarnings('ignore')\n",
    "\n",
    "# モデル作成\n",
    "kmeans = KMeans(role=role,\n",
    "                train_instance_count=2,\n",
    "                train_instance_type='ml.c4.8xlarge',\n",
    "#                 train_instance_type='m4.xlarge',\n",
    "                output_path=output_location,\n",
    "                k=10,\n",
    "                data_location=data_location)\n",
    "\n",
    "# 学習\n",
    "kmeans.fit(kmeans.record_set(train_set[0]))"
   ]
  },
  {
   "cell_type": "markdown",
   "metadata": {},
   "source": [
    "## Amazon SageMaker ホスティングサービスにモデルをデプロイする"
   ]
  },
  {
   "cell_type": "markdown",
   "metadata": {},
   "source": [
    "トレーニングしたモデルをエンドポイント（どこ？）にデプロイする。"
   ]
  },
  {
   "cell_type": "code",
   "execution_count": 7,
   "metadata": {},
   "outputs": [
    {
     "name": "stderr",
     "output_type": "stream",
     "text": [
      "INFO:sagemaker:Creating model with name: kmeans-2018-12-03-10-51-07-245\n",
      "INFO:sagemaker:Creating endpoint with name kmeans-2018-12-03-10-45-12-933\n"
     ]
    },
    {
     "name": "stdout",
     "output_type": "stream",
     "text": [
      "---------------------------------------------------------------!CPU times: user 332 ms, sys: 15.4 ms, total: 348 ms\n",
      "Wall time: 5min 20s\n"
     ]
    }
   ],
   "source": [
    "%%time\n",
    " \n",
    "kmeans_predictor = kmeans.deploy(initial_instance_count=1,\n",
    "                                 instance_type='ml.m4.xlarge')"
   ]
  },
  {
   "cell_type": "markdown",
   "metadata": {},
   "source": [
    "### エラー対策\n",
    "\n",
    "    ResourceLimitExceeded: An error occurred (ResourceLimitExceeded) when calling the CreateEndpoint operation: The account-level service limit 'ml.m4.xlarge for endpoint usage' is 0 Instances, with current utilization of 0 Instances and a request delta of 1 Instances. Please contact AWS support to request an increase for this limit.\n",
    "    \n",
    "と出力されている場合は、AWSサポートに制限を緩和して`ml.m4.xlarge`を使用できるようにしてもらう必要がある。\n",
    "\n",
    "制限緩和の方法は\n",
    "[Amazon SageMakerでml.p2.xlargeを使おうとしたらResourceLimitExceededって怒られた](https://qiita.com/okazy/items/b32e552cf36c3c815810)\n",
    "を参照。同じリージョンなら１営業日くらいで制限を緩和してくれる。\n"
   ]
  },
  {
   "cell_type": "markdown",
   "metadata": {},
   "source": [
    "## モデルの検証"
   ]
  },
  {
   "cell_type": "code",
   "execution_count": 9,
   "metadata": {},
   "outputs": [
    {
     "name": "stdout",
     "output_type": "stream",
     "text": [
      "[label {\n",
      "  key: \"closest_cluster\"\n",
      "  value {\n",
      "    float32_tensor {\n",
      "      values: 7.0\n",
      "    }\n",
      "  }\n",
      "}\n",
      "label {\n",
      "  key: \"distance_to_cluster\"\n",
      "  value {\n",
      "    float32_tensor {\n",
      "      values: 5.721954822540283\n",
      "    }\n",
      "  }\n",
      "}\n",
      "]\n"
     ]
    }
   ],
   "source": [
    "result = kmeans_predictor.predict(valid_set[0][30:31])\n",
    "print(result)"
   ]
  },
  {
   "cell_type": "markdown",
   "metadata": {},
   "source": [
    "valid_setデータセットの30番目の画像に対する推論結果が、クラスター7に属していることが分かる。\n",
    "\n",
    "    key:\"closest_cluster\"\n",
    "      value {\n",
    "        float32_tensor {\n",
    "          values: 7.0\n",
    "        }"
   ]
  },
  {
   "cell_type": "markdown",
   "metadata": {},
   "source": [
    "valid_setデータセットの先頭から100個分の推論結果を取得してみる。"
   ]
  },
  {
   "cell_type": "code",
   "execution_count": 10,
   "metadata": {},
   "outputs": [
    {
     "name": "stdout",
     "output_type": "stream",
     "text": [
      "CPU times: user 34.1 ms, sys: 4 µs, total: 34.1 ms\n",
      "Wall time: 197 ms\n"
     ]
    }
   ],
   "source": [
    "%%time \n",
    " \n",
    "result = kmeans_predictor.predict(valid_set[0][0:100])\n",
    "clusters = [r.label['closest_cluster'].float32_tensor.values[0] for r in result]"
   ]
  },
  {
   "cell_type": "code",
   "execution_count": 11,
   "metadata": {},
   "outputs": [
    {
     "name": "stdout",
     "output_type": "stream",
     "text": [
      "\n",
      "\n",
      "\n",
      "Cluster 0:\n"
     ]
    },
    {
     "data": {
      "image/png": "[encoded data removed]",
      "text/plain": [
       "<Figure size 360x72 with 5 Axes>"
      ]
     },
     "metadata": {},
     "output_type": "display_data"
    },
    {
     "name": "stdout",
     "output_type": "stream",
     "text": [
      "\n",
      "\n",
      "\n",
      "Cluster 1:\n"
     ]
    },
    {
     "data": {
      "image/png": "[encoded data removed]",
      "text/plain": [
       "<Figure size 360x216 with 15 Axes>"
      ]
     },
     "metadata": {},
     "output_type": "display_data"
    },
    {
     "name": "stdout",
     "output_type": "stream",
     "text": [
      "\n",
      "\n",
      "\n",
      "Cluster 2:\n"
     ]
    },
    {
     "data": {
      "image/png": "[encoded data removed]",
      "text/plain": [
       "<Figure size 360x144 with 10 Axes>"
      ]
     },
     "metadata": {},
     "output_type": "display_data"
    },
    {
     "name": "stdout",
     "output_type": "stream",
     "text": [
      "\n",
      "\n",
      "\n",
      "Cluster 3:\n"
     ]
    },
    {
     "data": {
      "image/png": "[encoded data removed]",
      "text/plain": [
       "<Figure size 360x288 with 20 Axes>"
      ]
     },
     "metadata": {},
     "output_type": "display_data"
    },
    {
     "name": "stdout",
     "output_type": "stream",
     "text": [
      "\n",
      "\n",
      "\n",
      "Cluster 4:\n"
     ]
    },
    {
     "data": {
      "image/png": "[encoded data removed]",
      "text/plain": [
       "<Figure size 360x144 with 10 Axes>"
      ]
     },
     "metadata": {},
     "output_type": "display_data"
    },
    {
     "name": "stdout",
     "output_type": "stream",
     "text": [
      "\n",
      "\n",
      "\n",
      "Cluster 5:\n"
     ]
    },
    {
     "data": {
      "image/png": "[encoded data removed]",
      "text/plain": [
       "<Figure size 360x216 with 15 Axes>"
      ]
     },
     "metadata": {},
     "output_type": "display_data"
    },
    {
     "name": "stdout",
     "output_type": "stream",
     "text": [
      "\n",
      "\n",
      "\n",
      "Cluster 6:\n"
     ]
    },
    {
     "data": {
      "image/png": "[encoded data removed]",
      "text/plain": [
       "<Figure size 360x72 with 5 Axes>"
      ]
     },
     "metadata": {},
     "output_type": "display_data"
    },
    {
     "name": "stdout",
     "output_type": "stream",
     "text": [
      "\n",
      "\n",
      "\n",
      "Cluster 7:\n"
     ]
    },
    {
     "data": {
      "image/png": "[encoded data removed]",
      "text/plain": [
       "<Figure size 360x360 with 25 Axes>"
      ]
     },
     "metadata": {},
     "output_type": "display_data"
    },
    {
     "name": "stdout",
     "output_type": "stream",
     "text": [
      "\n",
      "\n",
      "\n",
      "Cluster 8:\n"
     ]
    },
    {
     "data": {
      "image/png": "[encoded data removed]",
      "text/plain": [
       "<Figure size 360x144 with 10 Axes>"
      ]
     },
     "metadata": {},
     "output_type": "display_data"
    },
    {
     "name": "stdout",
     "output_type": "stream",
     "text": [
      "\n",
      "\n",
      "\n",
      "Cluster 9:\n"
     ]
    },
    {
     "data": {
      "image/png": "[encoded data removed]",
      "text/plain": [
       "<Figure size 360x144 with 10 Axes>"
      ]
     },
     "metadata": {},
     "output_type": "display_data"
    }
   ],
   "source": [
    "for cluster in range(10):\n",
    "    print('\\n\\n\\nCluster {}:'.format(int(cluster)))\n",
    "    digits = [ img for l, img in zip(clusters, valid_set[0]) if int(l) == cluster ]\n",
    "    height = ((len(digits)-1)//5) + 1\n",
    "    width = 5\n",
    "    plt.rcParams[\"figure.figsize\"] = (width,height)\n",
    "    _, subplots = plt.subplots(height, width)\n",
    "    subplots = numpy.ndarray.flatten(subplots)\n",
    "    for subplot, image in zip(subplots, digits):\n",
    "        show_digit(image, subplot=subplot)\n",
    "    for subplot in subplots[len(digits):]:\n",
    "        subplot.axis('off')\n",
    " \n",
    "    plt.show()"
   ]
  },
  {
   "cell_type": "markdown",
   "metadata": {},
   "source": [
    "うーん微妙・・・\n",
    "\n",
    "valid_setデータセットの30番目の画像に対する推論結果を再確認"
   ]
  },
  {
   "cell_type": "code",
   "execution_count": 21,
   "metadata": {},
   "outputs": [
    {
     "data": {
      "image/png": "[encoded data removed]",
      "text/plain": [
       "<Figure size 360x144 with 1 Axes>"
      ]
     },
     "metadata": {},
     "output_type": "display_data"
    }
   ],
   "source": [
    "show_digit(valid_set[0][30], 'this is a {}'.format(valid_set[1][30]))"
   ]
  }
 ],
 "metadata": {
  "kernelspec": {
   "display_name": "conda_python3",
   "language": "python",
   "name": "conda_python3"
  },
  "language_info": {
   "codemirror_mode": {
    "name": "ipython",
    "version": 3
   },
   "file_extension": ".py",
   "mimetype": "text/x-python",
   "name": "python",
   "nbconvert_exporter": "python",
   "pygments_lexer": "ipython3",
   "version": "3.6.5"
  }
 },
 "nbformat": 4,
 "nbformat_minor": 2
}
